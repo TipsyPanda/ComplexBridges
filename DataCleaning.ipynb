# %% [markdown]
# # 🪐 Space
# 
# ## 1️⃣ Read from File
# 
# This notebook demonstrates how to load a CSV file directly from a GitHub repository
# into a pandas DataFrame.

# %%
import pandas as pd

# 🔗 Replace this URL with your own GitHub raw CSV link
url = "https://raw.githubusercontent.com/user/repo/main/data.csv"

# Read the CSV into a DataFrame
df = pd.read_csv(url)

# Display first few rows
df.head()

