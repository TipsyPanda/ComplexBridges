{
  "cells": [
    {
      "cell_type": "markdown",
      "metadata": {
        "id": "view-in-github",
        "colab_type": "text"
      },
      "source": [
        "<a href=\"https://colab.research.google.com/github/TipsyPanda/ComplexBridges/blob/main/ComplexBridge_Validation.ipynb\" target=\"_parent\"><img src=\"https://colab.research.google.com/assets/colab-badge.svg\" alt=\"Open In Colab\"/></a>"
      ]
    },
    {
      "cell_type": "markdown",
      "metadata": {
        "id": "sVfs5-psHmDP"
      },
      "source": [
        "# IsolationForest Validation — Strain Gauges\n",
        "\n",
        "**Purpose:** Chronologically split strain-gauge features, train an Isolation Forest on earlier data, validate on later data, and save metrics, plots, and predictions per span.\n",
        "\n",
        "**Outputs (per span):**\n",
        "- `isoforest_model.pkl` (trained model)\n",
        "- `threshold.json` (chosen decision threshold and stats)\n",
        "- `validation_plots.png` (distributions, ROC, PR, CM)\n",
        "- `test_predictions.csv` (scores, predicted anomalies, true labels if present)\n",
        "- `validation_results.json` (scalar metrics)\n"
      ],
      "id": "sVfs5-psHmDP"
    },
    {
      "cell_type": "markdown",
      "metadata": {
        "id": "Bqt2GrYbHmDY"
      },
      "source": [
        "## 0) Setup (optional)\n",
        "Uncomment the line below if you're running on Colab or a fresh environment."
      ],
      "id": "Bqt2GrYbHmDY"
    },
    {
      "cell_type": "code",
      "execution_count": 1,
      "metadata": {
        "id": "F1kFBFiuHmDZ",
        "outputId": "2bbaec87-fcff-40be-f899-310bfc1ff496",
        "colab": {
          "base_uri": "https://localhost:8080/"
        }
      },
      "outputs": [
        {
          "output_type": "stream",
          "name": "stdout",
          "text": [
            "\u001b[?25l   \u001b[90m━━━━━━━━━━━━━━━━━━━━━━━━━━━━━━━━━━━━━━━━\u001b[0m \u001b[32m0.0/1.8 MB\u001b[0m \u001b[31m?\u001b[0m eta \u001b[36m-:--:--\u001b[0m\r\u001b[2K   \u001b[91m━━━━━━━━\u001b[0m\u001b[90m╺\u001b[0m\u001b[90m━━━━━━━━━━━━━━━━━━━━━━━━━━━━━━━\u001b[0m \u001b[32m0.4/1.8 MB\u001b[0m \u001b[31m10.7 MB/s\u001b[0m eta \u001b[36m0:00:01\u001b[0m\r\u001b[2K   \u001b[91m━━━━━━━━━━━━━━━━━━━━━━━━━━━━━━━━━━━━━━━\u001b[0m\u001b[91m╸\u001b[0m \u001b[32m1.8/1.8 MB\u001b[0m \u001b[31m30.3 MB/s\u001b[0m eta \u001b[36m0:00:01\u001b[0m\r\u001b[2K   \u001b[90m━━━━━━━━━━━━━━━━━━━━━━━━━━━━━━━━━━━━━━━━\u001b[0m \u001b[32m1.8/1.8 MB\u001b[0m \u001b[31m23.1 MB/s\u001b[0m eta \u001b[36m0:00:00\u001b[0m\n",
            "\u001b[?25h"
          ]
        }
      ],
      "source": [
        "# If running on Colab, uncomment:\n",
        "!pip install -q pandas numpy scikit-learn matplotlib seaborn pyarrow fastparquet joblib"
      ],
      "id": "F1kFBFiuHmDZ"
    },
    {
      "cell_type": "markdown",
      "metadata": {
        "id": "vC9QmfocHmDc"
      },
      "source": [
        "## 1) Imports & Environment"
      ],
      "id": "vC9QmfocHmDc"
    },
    {
      "cell_type": "code",
      "execution_count": 2,
      "metadata": {
        "id": "E1kbwye8HmDc",
        "outputId": "1617962a-7529-492d-d598-16ca1f1e7a8a",
        "colab": {
          "base_uri": "https://localhost:8080/"
        }
      },
      "outputs": [
        {
          "output_type": "stream",
          "name": "stdout",
          "text": [
            "Mounted at /content/drive/\n"
          ]
        }
      ],
      "source": [
        "import os, json, joblib, numpy as np, pandas as pd\n",
        "from typing import Dict, List, Tuple\n",
        "import matplotlib.pyplot as plt\n",
        "import seaborn as sns\n",
        "from datetime import datetime\n",
        "\n",
        "from sklearn.preprocessing import RobustScaler\n",
        "from sklearn.ensemble import IsolationForest\n",
        "from sklearn.metrics import (\n",
        "    precision_recall_curve, average_precision_score,\n",
        "    precision_recall_fscore_support, roc_auc_score, roc_curve,\n",
        "    confusion_matrix, classification_report\n",
        ")\n",
        "\n",
        "# Detect if running in Google Colab and mount Drive\n",
        "IN_COLAB = False\n",
        "try:\n",
        "    from google.colab import drive  # type: ignore\n",
        "    IN_COLAB = True\n",
        "except Exception:\n",
        "    drive = None\n",
        "    IN_COLAB = False\n",
        "\n",
        "if IN_COLAB:\n",
        "    drive.mount('/content/drive/')"
      ],
      "id": "E1kbwye8HmDc"
    },
    {
      "cell_type": "markdown",
      "metadata": {
        "id": "jHhY7l4cHmDd"
      },
      "source": [
        "## 2) Paths"
      ],
      "id": "jHhY7l4cHmDd"
    },
    {
      "cell_type": "code",
      "execution_count": 3,
      "metadata": {
        "id": "EFyb__0pHmDe",
        "outputId": "38bc774e-44db-4e87-ec60-beef06e942fa",
        "colab": {
          "base_uri": "https://localhost:8080/"
        }
      },
      "outputs": [
        {
          "output_type": "stream",
          "name": "stdout",
          "text": [
            "DATA_PATH       : /content/drive/MyDrive/ComplexBridge_work/Data/\n",
            "ARTIFACT_DIR    : /content/drive/MyDrive/ComplexBridge_work/Artifacts/\n",
            "VALIDATION_DIR  : /content/drive/MyDrive/ComplexBridge_work/Artifacts/validation_results\n"
          ]
        }
      ],
      "source": [
        "if IN_COLAB:\n",
        "    DATA_PATH = \"/content/drive/MyDrive/ComplexBridge_work/Data/\"\n",
        "    ARTIFACT_DIR = \"/content/drive/MyDrive/ComplexBridge_work/Artifacts/\"\n",
        "else:\n",
        "    # Fallback local paths; adjust if needed\n",
        "    DATA_PATH = \"./Data/\"\n",
        "    ARTIFACT_DIR = \"./Artifacts/\"\n",
        "\n",
        "VALIDATION_DIR = os.path.join(ARTIFACT_DIR, \"validation_results\")\n",
        "\n",
        "\n",
        "print(\"DATA_PATH       :\", DATA_PATH)\n",
        "print(\"ARTIFACT_DIR    :\", ARTIFACT_DIR)\n",
        "print(\"VALIDATION_DIR  :\", VALIDATION_DIR)"
      ],
      "id": "EFyb__0pHmDe"
    },
    {
      "cell_type": "markdown",
      "metadata": {
        "id": "OAKPFBbpHmDe"
      },
      "source": [
        "## 3) Configuration"
      ],
      "id": "OAKPFBbpHmDe"
    },
    {
      "cell_type": "code",
      "execution_count": 4,
      "metadata": {
        "id": "f4n97ZffHmDf"
      },
      "outputs": [],
      "source": [
        "# Feature columns for strain gauge\n",
        "STRAIN_FEATURES = [\"f_mean\",\"f_std\",\"f_rms\",\"f_p2p\",\"f_slope\",\"fft_low\",\"fft_mid\",\"fft_high\"]\n",
        "\n",
        "# Train/test split ratio (chronological split)\n",
        "TRAIN_RATIO = 0.7\n",
        "\n",
        "# Isolation Forest parameters\n",
        "ISO_PARAMS = {\n",
        "    'n_estimators': 300,\n",
        "    'contamination': 'auto',\n",
        "    'random_state': 42,\n",
        "    'n_jobs': -1\n",
        "}"
      ],
      "id": "f4n97ZffHmDf"
    },
    {
      "cell_type": "markdown",
      "metadata": {
        "id": "ybBqgt11HmDv"
      },
      "source": [
        "## 4) Utility Functions"
      ],
      "id": "ybBqgt11HmDv"
    },
    {
      "cell_type": "code",
      "execution_count": 5,
      "metadata": {
        "id": "Vfcj1FMCHmDw"
      },
      "outputs": [],
      "source": [
        "def save_json(path, obj):\n",
        "    \"\"\"Save dictionary to JSON file\"\"\"\n",
        "    with open(path, \"w\") as f:\n",
        "        json.dump(obj, f, indent=2)\n",
        "\n",
        "def load_json(path):\n",
        "    \"\"\"Load JSON file\"\"\"\n",
        "    with open(path, \"r\") as f:\n",
        "        return json.load(f)\n",
        "\n",
        "def create_span_dir(span_id: str) -> str:\n",
        "    \"\"\"Create and return validation directory for span\"\"\"\n",
        "    d = os.path.join(VALIDATION_DIR, f\"{span_id}_strain_gauge\")\n",
        "    os.makedirs(d, exist_ok=True)\n",
        "    return d\n",
        "\n",
        "def read_feats(sensor_type: str, use_scaled: bool = True) -> pd.DataFrame:\n",
        "    \"\"\"Read feature files (prefer scaled, prefer parquet)\"\"\"\n",
        "    bases = []\n",
        "    if use_scaled:\n",
        "        bases.append(os.path.join(ARTIFACT_DIR, f\"features/feats_{sensor_type}_scaled\"))\n",
        "    bases.append(os.path.join(ARTIFACT_DIR, f\"features/feats_{sensor_type}\"))\n",
        "\n",
        "    for base in bases:\n",
        "        for ext in [\".parquet\", \".csv\"]:\n",
        "            path = base + ext\n",
        "            if os.path.exists(path):\n",
        "                if ext == \".parquet\":\n",
        "                    df = pd.read_parquet(path)\n",
        "                else:\n",
        "                    df = pd.read_csv(path)\n",
        "\n",
        "                # Ensure datetime\n",
        "                if 't_center' in df.columns and not np.issubdtype(df['t_center'].dtype, np.datetime64):\n",
        "                    df['t_center'] = pd.to_datetime(df['t_center'], errors='coerce')\n",
        "                return df\n",
        "\n",
        "    return pd.DataFrame()"
      ],
      "id": "Vfcj1FMCHmDw"
    },
    {
      "cell_type": "markdown",
      "metadata": {
        "id": "2CPc8wU2HmDx"
      },
      "source": [
        "## 5) Load Strain Gauge Features"
      ],
      "id": "2CPc8wU2HmDx"
    },
    {
      "cell_type": "code",
      "execution_count": 6,
      "metadata": {
        "id": "OxI9ZTAZHmDx",
        "outputId": "f8c7c3c3-5ce9-449a-bfdb-34cf94027f3c",
        "colab": {
          "base_uri": "https://localhost:8080/"
        }
      },
      "outputs": [
        {
          "output_type": "stream",
          "name": "stdout",
          "text": [
            "Loading strain gauge features...\n",
            "Loaded strain features: shape=(1198, 13)\n",
            "Columns: ['t_center', 'sensor_id', 'sensor_type', 'span_id', 'f_mean', 'f_std', 'f_rms', 'f_p2p', 'f_slope', 'fft_low', 'fft_mid', 'fft_high', 'label_rule']\n",
            "Date range: 2025-10-10 12:00:02.500000 to 2025-10-10 12:29:56.500000\n",
            "Spans: ['SPAN_1', 'SPAN_2']\n"
          ]
        }
      ],
      "source": [
        "print(\"Loading strain gauge features...\")\n",
        "feats_strain = read_feats(\"strain_gauge\", use_scaled=True)\n",
        "\n",
        "if feats_strain.empty:\n",
        "    print(\"ERROR: No strain gauge features found!\")\n",
        "else:\n",
        "    print(f\"Loaded strain features: shape={feats_strain.shape}\")\n",
        "    print(f\"Columns: {list(feats_strain.columns)}\")\n",
        "    if 't_center' in feats_strain.columns:\n",
        "        print(f\"Date range: {feats_strain['t_center'].min()} to {feats_strain['t_center'].max()}\")\n",
        "    if 'span_id' in feats_strain.columns:\n",
        "        print(f\"Spans: {feats_strain['span_id'].unique().tolist()}\")"
      ],
      "id": "OxI9ZTAZHmDx"
    },
    {
      "cell_type": "markdown",
      "metadata": {
        "id": "vCkS14HiHmDy"
      },
      "source": [
        "## 6) Train/Test Split (Chronological)"
      ],
      "id": "vCkS14HiHmDy"
    },
    {
      "cell_type": "code",
      "execution_count": 7,
      "metadata": {
        "id": "oLfJYy9DHmDy"
      },
      "outputs": [],
      "source": [
        "def split_train_test_chronological(df: pd.DataFrame, train_ratio: float = 0.7):\n",
        "    \"\"\"\n",
        "    Split dataframe chronologically based on t_center\n",
        "    Returns: train_df, test_df, split_date\n",
        "    \"\"\"\n",
        "    df_sorted = df.sort_values('t_center').reset_index(drop=True)\n",
        "    split_idx = int(len(df_sorted) * train_ratio)\n",
        "\n",
        "    train_df = df_sorted.iloc[:split_idx].copy()\n",
        "    test_df = df_sorted.iloc[split_idx:].copy()\n",
        "    split_date = train_df['t_center'].max()\n",
        "\n",
        "    return train_df, test_df, split_date"
      ],
      "id": "oLfJYy9DHmDy"
    },
    {
      "cell_type": "markdown",
      "metadata": {
        "id": "A7-Up9dQHmDz"
      },
      "source": [
        "## 7) Visualization Functions"
      ],
      "id": "A7-Up9dQHmDz"
    },
    {
      "cell_type": "code",
      "execution_count": 8,
      "metadata": {
        "id": "RFHhUrD-HmDz"
      },
      "outputs": [],
      "source": [
        "def plot_validation_results(span_id, save_dir, train_scores, test_scores, y_test,\n",
        "                            threshold, train_df, test_df):\n",
        "    \"\"\"Create comprehensive validation plots\"\"\"\n",
        "\n",
        "    fig = plt.figure(figsize=(16, 12))\n",
        "\n",
        "    # 1. Score distributions\n",
        "    ax1 = plt.subplot(3, 2, 1)\n",
        "    plt.hist(train_scores, bins=50, alpha=0.6, label='Train', density=True)\n",
        "    plt.hist(test_scores, bins=50, alpha=0.6, label='Test', density=True)\n",
        "    plt.axvline(threshold, color='r', linestyle='--', label=f'Threshold={threshold:.4f}')\n",
        "    plt.xlabel('Anomaly Score')\n",
        "    plt.ylabel('Density')\n",
        "    plt.title('Score Distribution (Train vs Test)')\n",
        "    plt.legend()\n",
        "    plt.grid(True, alpha=0.3)\n",
        "\n",
        "    # 2. Score distribution by true label\n",
        "    ax2 = plt.subplot(3, 2, 2)\n",
        "    normal_scores = test_scores[y_test == 0]\n",
        "    anomaly_scores = test_scores[y_test == 1]\n",
        "    plt.hist(normal_scores, bins=30, alpha=0.6, label=f'Normal (n={len(normal_scores)})', density=True)\n",
        "    plt.hist(anomaly_scores, bins=30, alpha=0.6, label=f'Anomaly (n={len(anomaly_scores)})', density=True)\n",
        "    plt.axvline(threshold, color='r', linestyle='--', label='Threshold')\n",
        "    plt.xlabel('Anomaly Score')\n",
        "    plt.ylabel('Density')\n",
        "    plt.title('Test Set: Scores by True Label')\n",
        "    plt.legend()\n",
        "    plt.grid(True, alpha=0.3)\n",
        "\n",
        "    # 3. Time series of scores\n",
        "    ax3 = plt.subplot(3, 2, 3)\n",
        "    plt.scatter(test_df['t_center'], test_scores, c=y_test, cmap='coolwarm',\n",
        "               alpha=0.6, s=10, label='Test samples')\n",
        "    plt.axhline(threshold, color='r', linestyle='--', label='Threshold')\n",
        "    plt.xlabel('Time')\n",
        "    plt.ylabel('Anomaly Score')\n",
        "    plt.title('Anomaly Scores Over Time (Test Set)')\n",
        "    plt.legend()\n",
        "    plt.grid(True, alpha=0.3)\n",
        "    plt.xticks(rotation=45)\n",
        "\n",
        "    # 4. ROC Curve\n",
        "    ax4 = plt.subplot(3, 2, 4)\n",
        "    try:\n",
        "        fpr, tpr, _ = roc_curve(y_test, -test_scores)\n",
        "        roc_auc = roc_auc_score(y_test, -test_scores)\n",
        "        plt.plot(fpr, tpr, label=f'ROC (AUC={roc_auc:.3f})')\n",
        "        plt.plot([0, 1], [0, 1], 'k--', label='Random')\n",
        "        plt.xlabel('False Positive Rate')\n",
        "        plt.ylabel('True Positive Rate')\n",
        "        plt.title('ROC Curve')\n",
        "        plt.legend()\n",
        "        plt.grid(True, alpha=0.3)\n",
        "    except Exception as e:\n",
        "        plt.text(0.5, 0.5, f'ROC plot failed:\\n{str(e)}', ha='center', va='center')\n",
        "\n",
        "    # 5. Precision-Recall Curve\n",
        "    ax5 = plt.subplot(3, 2, 5)\n",
        "    try:\n",
        "        precision, recall, _ = precision_recall_curve(y_test, -test_scores)\n",
        "        avg_precision = average_precision_score(y_test, -test_scores)\n",
        "        plt.plot(recall, precision, label=f'PR (AP={avg_precision:.3f})')\n",
        "        plt.xlabel('Recall')\n",
        "        plt.ylabel('Precision')\n",
        "        plt.title('Precision-Recall Curve')\n",
        "        plt.legend()\n",
        "        plt.grid(True, alpha=0.3)\n",
        "    except Exception as e:\n",
        "        plt.text(0.5, 0.5, f'PR plot failed:\\n{str(e)}', ha='center', va='center')\n",
        "\n",
        "    # 6. Confusion Matrix\n",
        "    ax6 = plt.subplot(3, 2, 6)\n",
        "    test_pred = (test_scores < threshold).astype(int)\n",
        "    cm = confusion_matrix(y_test, test_pred)\n",
        "    sns.heatmap(cm, annot=True, fmt='d', cmap='Blues',\n",
        "                xticklabels=['Normal', 'Anomaly'],\n",
        "                yticklabels=['Normal', 'Anomaly'])\n",
        "    plt.ylabel('True Label')\n",
        "    plt.xlabel('Predicted Label')\n",
        "    plt.title('Confusion Matrix (Test Set)')\n",
        "\n",
        "    plt.suptitle(f'Validation Results: {span_id}', fontsize=16, y=0.995)\n",
        "    plt.tight_layout()\n",
        "\n",
        "    plot_path = os.path.join(save_dir, 'validation_plots.png')\n",
        "    plt.savefig(plot_path, dpi=150, bbox_inches='tight')\n",
        "    plt.close()\n",
        "\n",
        "    print(f\"Plots saved to: {plot_path}\")"
      ],
      "id": "RFHhUrD-HmDz"
    },
    {
      "cell_type": "markdown",
      "metadata": {
        "id": "mkhKX3SFHmD1"
      },
      "source": [
        "## 8) Model Training & Validation"
      ],
      "id": "mkhKX3SFHmD1"
    },
    {
      "cell_type": "code",
      "execution_count": 9,
      "metadata": {
        "id": "Edq0TBMDHmD1"
      },
      "outputs": [],
      "source": [
        "def train_and_validate_isoforest(span_id: str, df_span: pd.DataFrame):\n",
        "    \"\"\"\n",
        "    Train Isolation Forest on training data and validate on test data\n",
        "    \"\"\"\n",
        "    print(f\"\\n{'='*60}\")\n",
        "    print(f\"Processing Span: {span_id}\")\n",
        "    print(f\"{'='*60}\")\n",
        "\n",
        "    val_dir = create_span_dir(span_id)\n",
        "\n",
        "    # Check if we have all required features\n",
        "    missing_feats = [f for f in STRAIN_FEATURES if f not in df_span.columns]\n",
        "    if missing_feats:\n",
        "        print(f\"ERROR: Missing features: {missing_feats}\")\n",
        "        return None\n",
        "\n",
        "    # Split train/test chronologically\n",
        "    train_df, test_df, split_date = split_train_test_chronological(df_span, TRAIN_RATIO)\n",
        "\n",
        "    print(f\"\\nData Split:\")\n",
        "    print(f\"  Total samples: {len(df_span)}\")\n",
        "    print(f\"  Train samples: {len(train_df)} ({len(train_df)/len(df_span)*100:.1f}%)\")\n",
        "    print(f\"  Test samples:  {len(test_df)} ({len(test_df)/len(df_span)*100:.1f}%)\")\n",
        "    print(f\"  Split date:    {split_date}\")\n",
        "\n",
        "    # Prepare feature matrices\n",
        "    X_train = train_df[STRAIN_FEATURES].to_numpy()\n",
        "    X_test = test_df[STRAIN_FEATURES].to_numpy()\n",
        "\n",
        "    # Check for labels if available\n",
        "    has_labels = 'label_rule' in df_span.columns\n",
        "    if has_labels:\n",
        "        y_train = train_df['label_rule'].to_numpy()\n",
        "        y_test = test_df['label_rule'].to_numpy()\n",
        "        print(f\"\\nLabels found:\")\n",
        "        print(f\"  Train anomalies: {y_train.sum()} ({y_train.sum()/len(y_train)*100:.2f}%)\")\n",
        "        print(f\"  Test anomalies:  {y_test.sum()} ({y_test.sum()/len(y_test)*100:.2f}%)\")\n",
        "\n",
        "    # Train Isolation Forest\n",
        "    print(f\"\\nTraining Isolation Forest...\")\n",
        "    iso_model = IsolationForest(**ISO_PARAMS)\n",
        "    iso_model.fit(X_train)\n",
        "\n",
        "    # Get anomaly scores (higher = more normal; lower = more anomalous)\n",
        "    train_scores = iso_model.decision_function(X_train)\n",
        "    test_scores = iso_model.decision_function(X_test)\n",
        "\n",
        "    print(f\"  Train score range: [{train_scores.min():.4f}, {train_scores.max():.4f}]\")\n",
        "    print(f\"  Test score range:  [{test_scores.min():.4f}, {test_scores.max():.4f}]\")\n",
        "\n",
        "    # Determine threshold (0.5 percentile from training data)\n",
        "    threshold = float(np.percentile(train_scores, 0.5))\n",
        "    print(f\"  Threshold (0.5 percentile): {threshold:.6f}\")\n",
        "\n",
        "    # Predict anomalies\n",
        "    train_pred = (train_scores < threshold).astype(int)\n",
        "    test_pred = (test_scores < threshold).astype(int)\n",
        "\n",
        "    print(f\"\\nPredicted anomalies:\")\n",
        "    print(f\"  Train: {train_pred.sum()} ({train_pred.sum()/len(train_pred)*100:.2f}%)\")\n",
        "    print(f\"  Test:  {test_pred.sum()} ({test_pred.sum()/len(test_pred)*100:.2f}%)\")\n",
        "\n",
        "    # Save model and threshold\n",
        "    model_path = os.path.join(val_dir, \"isoforest_model.pkl\")\n",
        "    joblib.dump(iso_model, model_path)\n",
        "\n",
        "    threshold_path = os.path.join(val_dir, \"threshold.json\")\n",
        "    save_json(threshold_path, {\n",
        "        \"score_threshold\": threshold,\n",
        "        \"train_score_mean\": float(train_scores.mean()),\n",
        "        \"train_score_std\": float(train_scores.std()),\n",
        "        \"split_date\": str(split_date),\n",
        "        \"note\": \"score < threshold => anomaly\"\n",
        "    })\n",
        "\n",
        "    # Evaluation metrics\n",
        "    results = {\n",
        "        \"span_id\": span_id,\n",
        "        \"split_date\": str(split_date),\n",
        "        \"train_samples\": int(len(train_df)),\n",
        "        \"test_samples\": int(len(test_df)),\n",
        "        \"threshold\": float(threshold),\n",
        "        \"train_anomaly_rate\": float(train_pred.sum() / len(train_pred)),\n",
        "        \"test_anomaly_rate\": float(test_pred.sum() / len(test_pred)),\n",
        "    }\n",
        "\n",
        "    # If we have labels, compute classification metrics\n",
        "    if has_labels:\n",
        "        print(f\"\\n{'='*60}\")\n",
        "        print(\"CLASSIFICATION METRICS (Test Set)\")\n",
        "        print(f\"{'='*60}\")\n",
        "\n",
        "        # Confusion matrix\n",
        "        cm = confusion_matrix(y_test, test_pred)\n",
        "        print(f\"\\nConfusion Matrix:\")\n",
        "        print(f\"                Predicted Normal  Predicted Anomaly\")\n",
        "        print(f\"Actual Normal   {cm[0,0]:15d}  {cm[0,1]:17d}\")\n",
        "        print(f\"Actual Anomaly  {cm[1,0]:15d}  {cm[1,1]:17d}\")\n",
        "\n",
        "        # Metrics\n",
        "        precision, recall, f1, _ = precision_recall_fscore_support(y_test, test_pred, average='binary')\n",
        "\n",
        "        print(f\"\\nPerformance Metrics:\")\n",
        "        print(f\"  Precision: {precision:.4f}\")\n",
        "        print(f\"  Recall:    {recall:.4f}\")\n",
        "        print(f\"  F1-Score:  {f1:.4f}\")\n",
        "\n",
        "        # ROC-AUC (using negative scores since lower = more anomalous)\n",
        "        try:\n",
        "            roc_auc = roc_auc_score(y_test, -test_scores)\n",
        "            print(f\"  ROC-AUC:   {roc_auc:.4f}\")\n",
        "        except:\n",
        "            roc_auc = None\n",
        "\n",
        "        # Average Precision\n",
        "        try:\n",
        "            avg_precision = average_precision_score(y_test, -test_scores)\n",
        "            print(f\"  Avg Precision: {avg_precision:.4f}\")\n",
        "        except:\n",
        "            avg_precision = None\n",
        "\n",
        "        # Add to results\n",
        "        results.update({\n",
        "            \"test_precision\": float(precision),\n",
        "            \"test_recall\": float(recall),\n",
        "            \"test_f1\": float(f1),\n",
        "            \"test_roc_auc\": float(roc_auc) if roc_auc else None,\n",
        "            \"test_avg_precision\": float(avg_precision) if avg_precision else None,\n",
        "            \"confusion_matrix\": cm.tolist(),\n",
        "            \"true_anomalies\": int(y_test.sum()),\n",
        "            \"detected_anomalies\": int(test_pred.sum()),\n",
        "            \"true_positives\": int(cm[1,1]),\n",
        "            \"false_positives\": int(cm[0,1]),\n",
        "            \"true_negatives\": int(cm[0,0]),\n",
        "            \"false_negatives\": int(cm[1,0])\n",
        "        })\n",
        "\n",
        "        # Plot results\n",
        "        plot_validation_results(\n",
        "            span_id, val_dir,\n",
        "            train_scores, test_scores, y_test,\n",
        "            threshold, train_df, test_df\n",
        "        )\n",
        "\n",
        "    # Save results\n",
        "    results_path = os.path.join(val_dir, \"validation_results.json\")\n",
        "    save_json(results_path, results)\n",
        "\n",
        "    # Save predictions\n",
        "    test_results_df = test_df.copy()\n",
        "    test_results_df['anomaly_score'] = test_scores\n",
        "    test_results_df['predicted_anomaly'] = test_pred\n",
        "    if has_labels:\n",
        "        test_results_df['true_label'] = y_test\n",
        "\n",
        "    pred_path = os.path.join(val_dir, \"test_predictions.csv\")\n",
        "    test_results_df.to_csv(pred_path, index=False)\n",
        "\n",
        "    print(f\"\\nResults saved to: {val_dir}\")\n",
        "\n",
        "    return results"
      ],
      "id": "Edq0TBMDHmD1"
    },
    {
      "cell_type": "markdown",
      "metadata": {
        "id": "BW8eHTziHmD3"
      },
      "source": [
        "## 9) Run Validation for All Spans"
      ],
      "id": "BW8eHTziHmD3"
    },
    {
      "cell_type": "code",
      "execution_count": 10,
      "metadata": {
        "id": "Cj4THpRoHmD3",
        "outputId": "747ff352-eac3-4625-f23c-10bc46397fb5",
        "colab": {
          "base_uri": "https://localhost:8080/"
        }
      },
      "outputs": [
        {
          "output_type": "stream",
          "name": "stdout",
          "text": [
            "\n",
            "Found 2 span(s): ['SPAN_1', 'SPAN_2']\n",
            "\n",
            "============================================================\n",
            "Processing Span: SPAN_1\n",
            "============================================================\n",
            "\n",
            "Data Split:\n",
            "  Total samples: 599\n",
            "  Train samples: 419 (69.9%)\n",
            "  Test samples:  180 (30.1%)\n",
            "  Split date:    2025-10-10 12:20:56.500000\n",
            "\n",
            "Labels found:\n",
            "  Train anomalies: 61 (14.56%)\n",
            "  Test anomalies:  48 (26.67%)\n",
            "\n",
            "Training Isolation Forest...\n",
            "  Train score range: [-0.1653, 0.1233]\n",
            "  Test score range:  [-0.2233, 0.1198]\n",
            "  Threshold (0.5 percentile): -0.133149\n",
            "\n",
            "Predicted anomalies:\n",
            "  Train: 3 (0.72%)\n",
            "  Test:  6 (3.33%)\n",
            "\n",
            "============================================================\n",
            "CLASSIFICATION METRICS (Test Set)\n",
            "============================================================\n",
            "\n",
            "Confusion Matrix:\n",
            "                Predicted Normal  Predicted Anomaly\n",
            "Actual Normal               132                  0\n",
            "Actual Anomaly               42                  6\n",
            "\n",
            "Performance Metrics:\n",
            "  Precision: 1.0000\n",
            "  Recall:    0.1250\n",
            "  F1-Score:  0.2222\n",
            "  ROC-AUC:   0.9877\n",
            "  Avg Precision: 0.9530\n",
            "Plots saved to: /content/drive/MyDrive/ComplexBridge_work/Artifacts/validation_results/SPAN_1_strain_gauge/validation_plots.png\n",
            "\n",
            "Results saved to: /content/drive/MyDrive/ComplexBridge_work/Artifacts/validation_results/SPAN_1_strain_gauge\n",
            "\n",
            "============================================================\n",
            "Processing Span: SPAN_2\n",
            "============================================================\n",
            "\n",
            "Data Split:\n",
            "  Total samples: 599\n",
            "  Train samples: 419 (69.9%)\n",
            "  Test samples:  180 (30.1%)\n",
            "  Split date:    2025-10-10 12:20:56.500000\n",
            "\n",
            "Labels found:\n",
            "  Train anomalies: 13 (3.10%)\n",
            "  Test anomalies:  0 (0.00%)\n",
            "\n",
            "Training Isolation Forest...\n",
            "  Train score range: [-0.3265, 0.1317]\n",
            "  Test score range:  [-0.1102, 0.1283]\n",
            "  Threshold (0.5 percentile): -0.143115\n",
            "\n",
            "Predicted anomalies:\n",
            "  Train: 3 (0.72%)\n",
            "  Test:  0 (0.00%)\n",
            "\n",
            "============================================================\n",
            "CLASSIFICATION METRICS (Test Set)\n",
            "============================================================\n",
            "\n",
            "Confusion Matrix:\n",
            "                Predicted Normal  Predicted Anomaly\n",
            "\n",
            "[SPAN_2] ERROR: index 1 is out of bounds for axis 1 with size 1\n",
            "\n",
            "============================================================\n",
            "VALIDATION SUMMARY\n",
            "============================================================\n",
            "Successfully validated 1 span(s)\n",
            "Summary saved to: /content/drive/MyDrive/ComplexBridge_work/Artifacts/validation_results/validation_summary.json\n",
            "\n",
            "Span ID         Precision    Recall       F1-Score     ROC-AUC     \n",
            "---------------------------------------------------------------\n",
            "SPAN_1          1.0000       0.1250       0.2222       0.9876893939393939\n",
            "\n",
            "============================================================\n",
            "Validation Complete!\n",
            "============================================================\n"
          ]
        },
        {
          "output_type": "stream",
          "name": "stderr",
          "text": [
            "/usr/local/lib/python3.12/dist-packages/sklearn/metrics/_classification.py:407: UserWarning: A single label was found in 'y_true' and 'y_pred'. For the confusion matrix to have the correct shape, use the 'labels' parameter to pass all known labels.\n",
            "  warnings.warn(\n",
            "Traceback (most recent call last):\n",
            "  File \"/tmp/ipython-input-3087568814.py\", line 24, in <cell line: 0>\n",
            "    result = train_and_validate_isoforest(span_id, df_span)\n",
            "             ^^^^^^^^^^^^^^^^^^^^^^^^^^^^^^^^^^^^^^^^^^^^^^\n",
            "  File \"/tmp/ipython-input-3636176369.py\", line 97, in train_and_validate_isoforest\n",
            "    print(f\"Actual Normal   {cm[0,0]:15d}  {cm[0,1]:17d}\")\n",
            "                                            ~~^^^^^\n",
            "IndexError: index 1 is out of bounds for axis 1 with size 1\n"
          ]
        }
      ],
      "source": [
        "if not feats_strain.empty and 'span_id' in feats_strain.columns:\n",
        "    spans = feats_strain['span_id'].dropna().unique().tolist()\n",
        "    print(f\"\\nFound {len(spans)} span(s): {spans}\")\n",
        "\n",
        "    all_results = []\n",
        "\n",
        "    for span_id in spans:\n",
        "        try:\n",
        "            # Filter data for this span\n",
        "            df_span = feats_strain[\n",
        "                (feats_strain['span_id'] == span_id) &\n",
        "                (feats_strain['sensor_type'] == 'strain_gauge')\n",
        "            ].copy()\n",
        "\n",
        "            if df_span.empty:\n",
        "                print(f\"\\n[{span_id}] No strain gauge data found - skipping\")\n",
        "                continue\n",
        "\n",
        "            if len(df_span) < 100:\n",
        "                print(f\"\\n[{span_id}] Insufficient data ({len(df_span)} samples) - skipping\")\n",
        "                continue\n",
        "\n",
        "            # Train and validate\n",
        "            result = train_and_validate_isoforest(span_id, df_span)\n",
        "\n",
        "            if result:\n",
        "                all_results.append(result)\n",
        "\n",
        "        except Exception as e:\n",
        "            print(f\"\\n[{span_id}] ERROR: {e}\")\n",
        "            import traceback\n",
        "            traceback.print_exc()\n",
        "\n",
        "    # Save summary\n",
        "    if all_results:\n",
        "        summary_path = os.path.join(VALIDATION_DIR, \"validation_summary.json\")\n",
        "        save_json(summary_path, {\n",
        "            \"validation_date\": datetime.now().isoformat(),\n",
        "            \"n_spans\": len(all_results),\n",
        "            \"results\": all_results\n",
        "        })\n",
        "\n",
        "        print(f\"\\n{'='*60}\")\n",
        "        print(\"VALIDATION SUMMARY\")\n",
        "        print(f\"{'='*60}\")\n",
        "        print(f\"Successfully validated {len(all_results)} span(s)\")\n",
        "        print(f\"Summary saved to: {summary_path}\")\n",
        "\n",
        "        # Print summary table (if labels were available)\n",
        "        if all_results and 'test_precision' in all_results[0]:\n",
        "            print(f\"\\n{'Span ID':<15} {'Precision':<12} {'Recall':<12} {'F1-Score':<12} {'ROC-AUC':<12}\")\n",
        "            print(\"-\" * 63)\n",
        "            for r in all_results:\n",
        "                print(f\"{r['span_id']:<15} {r['test_precision']:<12.4f} {r['test_recall']:<12.4f} \"\n",
        "                      f\"{r['test_f1']:<12.4f} {r.get('test_roc_auc', 'N/A'):<12}\")\n",
        "else:\n",
        "    print(\"ERROR: No span data available for validation\")\n",
        "\n",
        "print(\"\\n\" + \"=\"*60)\n",
        "print(\"Validation Complete!\")\n",
        "print(\"=\"*60)"
      ],
      "id": "Cj4THpRoHmD3"
    }
  ],
  "metadata": {
    "kernelspec": {
      "display_name": "Python 3",
      "language": "python",
      "name": "python3"
    },
    "language_info": {
      "name": "python",
      "version": "3.x"
    },
    "colab": {
      "name": "IsolationForest_Validation.ipynb",
      "provenance": [],
      "include_colab_link": true
    }
  },
  "nbformat": 4,
  "nbformat_minor": 5
}